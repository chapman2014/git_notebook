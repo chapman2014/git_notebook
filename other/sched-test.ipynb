{
 "cells": [
  {
   "cell_type": "code",
   "execution_count": 29,
   "metadata": {
    "collapsed": false
   },
   "outputs": [
    {
     "name": "stdout",
     "output_type": "stream",
     "text": [
      "show time after 10 seconds:\n",
      "Worker run: ls -l\n"
     ]
    }
   ],
   "source": [
    "#! /usr/bin/env python\n",
    "#coding=utf-8\n",
    "\n",
    "import time, os, sched \n",
    " \n",
    "# 第一个参数确定任务的时间，返回从某个特定的时间到现在经历的秒数 \n",
    "# 第二个参数以某种人为的方式衡量时间 \n",
    "schedule = sched.scheduler(time.time, time.sleep) \n",
    " \n",
    "def task_worker(cmd, inc): \n",
    "    print(\"Worker run:\",cmd)\n",
    "    \n",
    "  \n",
    "def task_start(inc = 60): \n",
    "    #enter用来安排某事件的发生时间，从现在起第n秒开始启动 \n",
    "    schedule.enter(inc, 0, task_worker, (\"ls -l\", inc)) \n",
    "    \n",
    "    schedule.run()  # 持续运行，直到计划时间队列变成空为止 \n",
    "\n",
    "\n",
    "print(\"show time after 10 seconds:\") \n",
    "task_start(10)"
   ]
  },
  {
   "cell_type": "code",
   "execution_count": null,
   "metadata": {
    "collapsed": false
   },
   "outputs": [
    {
     "name": "stdout",
     "output_type": "stream",
     "text": [
      "show time after 10 seconds:\n"
     ]
    }
   ],
   "source": [
    "#! /usr/bin/env python\n",
    "#coding=utf-8\n",
    "import time, os, sched \n",
    " \n",
    "# 第一个参数确定任务的时间，返回从某个特定的时间到现在经历的秒数 \n",
    "# 第二个参数以某种人为的方式衡量时间 \n",
    "schedule = sched.scheduler(time.time, time.sleep) \n",
    " \n",
    "def perform_command(cmd, inc): \n",
    " # 安排inc秒后再次运行自己，即周期运行 \n",
    " schedule.enter(inc, 0, perform_command, (cmd, inc)) \n",
    " os.system(cmd) \n",
    "  \n",
    "def timming_exe(cmd, inc = 60): \n",
    " # enter用来安排某事件的发生时间，从现在起第n秒开始启动 \n",
    " schedule.enter(inc, 0, perform_command, (cmd, inc)) \n",
    " # 持续运行，直到计划时间队列变成空为止\n",
    " schedule.run() \n",
    "\n",
    "print(\"show time after 10 seconds:\") \n",
    "timming_exe(\"echo %time%\", 10)"
   ]
  },
  {
   "cell_type": "code",
   "execution_count": null,
   "metadata": {
    "collapsed": false
   },
   "outputs": [],
   "source": []
  },
  {
   "cell_type": "code",
   "execution_count": null,
   "metadata": {
    "collapsed": true
   },
   "outputs": [],
   "source": []
  }
 ],
 "metadata": {
  "kernelspec": {
   "display_name": "Python 3",
   "language": "python",
   "name": "python3"
  },
  "language_info": {
   "codemirror_mode": {
    "name": "ipython",
    "version": 3
   },
   "file_extension": ".py",
   "mimetype": "text/x-python",
   "name": "python",
   "nbconvert_exporter": "python",
   "pygments_lexer": "ipython3",
   "version": "3.5.1"
  }
 },
 "nbformat": 4,
 "nbformat_minor": 0
}
