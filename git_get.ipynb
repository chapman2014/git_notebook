{
 "cells": [
  {
   "cell_type": "markdown",
   "metadata": {},
   "source": [
    "### Get Notebook from github.com and other source.\n",
    "通用的Notebook更新维护的工具。"
   ]
  },
  {
   "cell_type": "markdown",
   "metadata": {},
   "source": [
    "#### URL地址列表。"
   ]
  },
  {
   "cell_type": "code",
   "execution_count": 1,
   "metadata": {
    "collapsed": false
   },
   "outputs": [],
   "source": [
    "from pprint import *"
   ]
  },
  {
   "cell_type": "code",
   "execution_count": 15,
   "metadata": {
    "collapsed": false
   },
   "outputs": [
    {
     "data": {
      "text/plain": [
       "'# Get Notebook from github.com and other source:\\n\\n# Pandas tutorial for new user.\\nhttps://bitbucket.org/hrojas/learn-pandas.git\\n\\n# echo Pandas Cookbook.\\nhttps://github.com/jvns/pandas-cookbook.git\\n\\n# Some Files for Finance Analysis.\\nclone https://github.com/wy36101299/ipynb-file.git\\n\\n# Practical data analysis with Python\\nhttps://leanpub.com/analyticshandbook\\n\\n# Mining-the-Social-Web-2nd-Edition\\nhttps://github.com/ptwobrussell/Mining-the-Social-Web-2nd-Edition.git\\n\\n# Biolab\\nhttps://github.com/biolab/ipynb.git\\n\\n# Build a flask server for Jupyter.\\nhttps://github.com/yhilpisch/ipynb-docker.git\\n\\n#\\nhttps://github.com/yhilpisch/cloud-python.git\\n\\n#\\nhttps://github.com/yhilpisch/py4fi.git\\n\\n#\\nhttps://github.com/yhilpisch/dawp.git\\n\\n#\\nhttps://github.com/yhilpisch/pydlon15.git\\n\\n#\\nhttps://github.com/yhilpisch/dx.git\\n\\n# IPython notebooks used in Georgia Tech\\'s CSE 6040: Computing for Data Analysis\\nhttps://github.com/rvuduc/cse6040-ipynbs.git\\n\\n# Jupyter Notebook Tools for Sphinx\\nhttps://github.com/spatialaudio/nbsphinx.git\\n\\n# A collection of Notebooks for using IPython effectively\\nhttps://github.com/odewahn/ipynb-examples.git\\n\\n# aka \"Bayesian Methods for Hackers\"\\nhttps://github.com/CamDavidsonPilon/Probabilistic-Programming-and-Bayesian-Methods-for-Hackers.git\\n\\n# /bokeh-tutorial-ipynb\\nhttps://github.com/chdoig/bokeh-tutorial-ipynb.git\\n\\n# collection all kinds of ipynb\\nhttps://github.com/OpenBookProjects/ipynb.git\\n\\n# Just a shared git repo for Social Graphs & Interaction\\nhttps://github.com/timmevandermeer/ipynb.git\\n\\n# Neural Networks Training Jupyter Notebooks\\nhttps://github.com/tmeits/ipynb.git\\n\\n# tensorflow-ipynb\\nhttps://github.com/fujun-liu/tensorflow-ipynb.git\\n\\n# https://github.com/charlesjhlee/ml_ipynb.git\\nhttps://github.com/charlesjhlee/ml_ipynb.git\\n\\n# Ipython Notebook Visuals\\nhttps://github.com/bangadennis/ipynb_visuals.git\\n\\n# Canvas Widget for IPython Notebook https://github.com/Who8MyLunch/ipynb_widget_canvas\\nhttps://github.com/Who8MyLunch/ipynb_widget_canvas.git\\nhttps://github.com/Who8MyLunch/ipynb_widget_canvas.git\\n\\n# Copy of Udacity DL course ipynb files, and maybe some other stuff\\nhttps://github.com/damienstanton/tensorflownotes.git\\n\\n# This is an ipynb in which we use simple logistic regression from Spark MLlib to train a sarcasm detector on comments from reddit.\\nhttps://github.com/FranekJemiolo/SarcasmDetector.git\\n\\n# IPython project\\nhttps://github.com/ipython/ipython.git\\n\\n# Topik project\\nhttps://github.com/ContinuumIO/topik.git\\n\\n# scientific-python-lectures\\nhttps://github.com/ContinuumIO/scientific-python-lectures.git\\n\\n# Continuum work from XDATA January 2016 Hackathon with U. S. Census Bureau\\nhttps://github.com/ContinuumIO/xdata-2016-census.git\\n\\n#Analysis on Each Image\\nhttps://github.com/ContinuumIO/image-analyzer.git\\n\\nhttps://github.com/ContinuumIO/tutorials.git\\nhttps://github.com/ContinuumIO/PyDataAcademy.git\\n\\n'"
      ]
     },
     "execution_count": 15,
     "metadata": {},
     "output_type": "execute_result"
    }
   ],
   "source": [
    "url_str = open(\"url_list.txt\").read()\n",
    "url_s"
   ]
  },
  {
   "cell_type": "markdown",
   "metadata": {},
   "source": [
    "### 分解字符串到名称和url。"
   ]
  },
  {
   "cell_type": "code",
   "execution_count": 16,
   "metadata": {
    "collapsed": false
   },
   "outputs": [
    {
     "name": "stdout",
     "output_type": "stream",
     "text": [
      "Total: 26\n",
      "[{'ugit': 'https://bitbucket.org/hrojas/learn-pandas.git',\n",
      "  'uname': 'Pandas tutorial for new user.'},\n",
      " {'ugit': 'https://github.com/jvns/pandas-cookbook.git',\n",
      "  'uname': 'echo Pandas Cookbook.'},\n",
      " {'ugit': 'clone https://github.com/wy36101299/ipynb-file.git',\n",
      "  'uname': 'Some Files for Finance Analysis.'}]\n"
     ]
    }
   ],
   "source": [
    "url_line = url_str.split(\"#\")\n",
    "\n",
    "url_list = []\n",
    "for url in url_line:\n",
    "    url2 = url.strip().split(\"\\n\")\n",
    "    if len(url2)>1:\n",
    "        uname = url2[0]\n",
    "        ugit = url2[1]\n",
    "        url_dict = {\"uname\":uname,\"ugit\":ugit}\n",
    "        url_list.append(url_dict)\n",
    "print(\"Total:\",len(url_list))\n",
    "pprint(url_list[0:3])\n",
    "        #print(uname,\"\\n\",ugit)"
   ]
  },
  {
   "cell_type": "markdown",
   "metadata": {},
   "source": [
    "### 如果已经存在，则git pull，否则git clone."
   ]
  },
  {
   "cell_type": "code",
   "execution_count": 7,
   "metadata": {
    "collapsed": false
   },
   "outputs": [
    {
     "name": "stdout",
     "output_type": "stream",
     "text": [
      "\n",
      " 1 :\t learn-pandas. \n",
      "\t https://bitbucket.org/hrojas/learn-pandas.git\n",
      "\t Existed, git pull: learn-pandas\n",
      "Already up-to-date.\n",
      "\n",
      " 2 :\t Pandas Cookbook. \n",
      "\t https://github.com/jvns/pandas-cookbook.git\n",
      "\t Existed, git pull: pandas-cookbook\n",
      "Already up-to-date.\n",
      "\n",
      " 3 :\t Finance Analysis. \n",
      "\t https://github.com/wy36101299/ipynb-file.git\n",
      "\t Existed, git pull: ipynb-file\n",
      "Already up-to-date.\n",
      "\n",
      " 4 :\t Practical data analysis with Python \n",
      "\t https://leanpub.com/analytics/handbook.git\n",
      "Git clone ......\n",
      "正克隆到 'handbook'...\n",
      "fatal: repository 'https://leanpub.com/analytics/handbook.git/' not found\n",
      "\n",
      " 5 :\t Mining-the-Social-Web-2nd-Edition \n",
      "\t https://github.com/ptwobrussell/Mining-the-Social-Web-2nd-Edition.git\n",
      "\t Existed, git pull: Mining-the-Social-Web-2nd-Edition\n",
      "Already up-to-date.\n",
      "\n",
      " 6 :\t Biolab \n",
      "\t https://github.com/biolab/ipynb.git\n",
      "\t Existed, git pull: ipynb\n",
      "Already up-to-date.\n",
      "\n",
      " 7 :\t Build a flask server for Jupyter. \n",
      "\t https://github.com/yhilpisch/ipynb-docker.git\n",
      "\t Existed, git pull: ipynb-docker\n",
      "Already up-to-date.\n",
      "\n",
      " 8 :\t IPython notebooks used in Georgia Tech's CSE 6040: Computing for Data Analysis \n",
      "\t https://github.com/rvuduc/cse6040-ipynbs.git\n",
      "\t Existed, git pull: cse6040-ipynbs\n",
      "Already up-to-date.\n",
      "\n",
      " 9 :\t Jupyter Notebook Tools for Sphinx \n",
      "\t https://github.com/spatialaudio/nbsphinx.git\n",
      "Git clone ......\n",
      "正克隆到 'nbsphinx'...\n",
      "remote: Counting objects: 784, done.\u001b[K\n",
      "remote: Total 784 (delta 0), reused 0 (delta 0), pack-reused 784\u001b[K\n",
      "接收对象中: 100% (784/784), 217.71 KiB | 42.00 KiB/s, 完成.\n",
      "处理 delta 中: 100% (527/527), 完成.\n",
      "检查连接... 完成。\n",
      "\n",
      " 10 :\t A collection of Notebooks for using IPython effectively \n",
      "\t https://github.com/odewahn/ipynb-examples.git\n",
      "\t Existed, git pull: ipynb-examples\n",
      "Already up-to-date.\n",
      "\n",
      " 11 :\t aka \"Bayesian Methods for Hackers\" \n",
      "\t https://github.com/CamDavidsonPilon/Probabilistic-Programming-and-Bayesian-Methods-for-Hackers.git\n",
      "\t Existed, git pull: Probabilistic-Programming-and-Bayesian-Methods-for-Hackers\n",
      "Already up-to-date.\n",
      "\n",
      " 12 :\t /bokeh-tutorial-ipynb \n",
      "\t https://github.com/chdoig/bokeh-tutorial-ipynb.git\n",
      "Git clone ......\n",
      "正克隆到 'bokeh-tutorial-ipynb'...\n",
      "remote: Counting objects: 253, done.\u001b[K\n",
      "remote: Compressing objects: 100% (90/90), done.\u001b[K\n",
      "^C\n",
      "\n",
      " 13 :\t collection all kinds of ipynb \n",
      "\t https://github.com/OpenBookProjects/ipynb.git\n",
      "\t Existed, git pull: ipynb\n",
      "Already up-to-date.\n",
      "\n",
      " 14 :\t Just a shared git repo for Social Graphs & Interaction \n",
      "\t https://github.com/timmevandermeer/ipynb.git\n",
      "\t Existed, git pull: ipynb\n",
      "Already up-to-date.\n",
      "\n",
      " 15 :\t Neural Networks Training Jupyter Notebooks \n",
      "\t https://github.com/tmeits/ipynb.git\n",
      "\t Existed, git pull: ipynb\n",
      "Already up-to-date.\n",
      "\n",
      " 16 :\t tensorflow-ipynb \n",
      "\t https://github.com/fujun-liu/tensorflow-ipynb.git\n",
      "Git clone ......\n",
      "正克隆到 'tensorflow-ipynb'...\n",
      "remote: Counting objects: 7, done.\u001b[K\n",
      "remote: Total 7 (delta 0), reused 0 (delta 0), pack-reused 7\u001b[K\n",
      "展开对象中: 100% (7/7), 完成.\n",
      "检查连接... 完成。\n",
      "\n",
      " 17 :\t https://github.com/charlesjhlee/ml_ipynb.git \n",
      "\t https://github.com/charlesjhlee/ml_ipynb.git\n",
      "Git clone ......\n",
      "正克隆到 'ml_ipynb'...\n",
      "remote: Counting objects: 34, done.\u001b[K\n",
      "remote: Total 34 (delta 0), reused 0 (delta 0), pack-reused 34\u001b[K\n",
      "展开对象中: 100% (34/34), 完成.\n",
      "检查连接... 完成。\n",
      "\n",
      " 18 :\t Ipython Notebook Visuals \n",
      "\t https://github.com/bangadennis/ipynb_visuals.git\n",
      "Git clone ......\n",
      "正克隆到 'ipynb_visuals'...\n",
      "remote: Counting objects: 23, done.\u001b[K\n",
      "remote: Total 23 (delta 0), reused 0 (delta 0), pack-reused 23\u001b[K\n",
      "展开对象中: 100% (23/23), 完成.\n",
      "检查连接... 完成。\n",
      "\n",
      " 19 :\t Canvas Widget for IPython Notebook https://github.com/Who8MyLunch/ipynb_widget_canvas \n",
      "\t https://github.com/Who8MyLunch/ipynb_widget_canvas.git\n",
      "Git clone ......\n",
      "正克隆到 'ipynb_widget_canvas'...\n",
      "remote: Counting objects: 1141, done.\u001b[K\n",
      "remote: Total 1141 (delta 0), reused 0 (delta 0), pack-reused 1141\u001b[K\n",
      "接收对象中: 100% (1141/1141), 7.58 MiB | 127.00 KiB/s, 完成.\n",
      "处理 delta 中: 100% (776/776), 完成.\n",
      "检查连接... 完成。\n",
      "\n",
      " 20 :\t Copy of Udacity DL course ipynb files, and maybe some other stuff \n",
      "\t https://github.com/damienstanton/tensorflownotes.git\n",
      "Git clone ......\n",
      "正克隆到 'tensorflownotes'...\n",
      "remote: Counting objects: 24, done.\u001b[K\n",
      "remote: Total 24 (delta 0), reused 0 (delta 0), pack-reused 24\u001b[K\n",
      "展开对象中: 100% (24/24), 完成.\n",
      "检查连接... 完成。\n",
      "\n",
      " 21 :\t Simple logistic regression from Spark MLlib to train a sarcasm detector on comments from reddit. \n",
      "\t https://github.com/FranekJemiolo/SarcasmDetector.git\n",
      "Git clone ......\n",
      "正克隆到 'SarcasmDetector'...\n",
      "remote: Counting objects: 6, done.\u001b[K\n",
      "remote: Total 6 (delta 0), reused 0 (delta 0), pack-reused 6\u001b[K\n",
      "展开对象中: 100% (6/6), 完成.\n",
      "检查连接... 完成。\n",
      "\n",
      " 22 :\t IPython project \n",
      "\t https://github.com/ipython/ipython.git\n",
      "Git clone ......\n",
      "正克隆到 'ipython'...\n",
      "remote: Counting objects: 154141, done.\u001b[K\n",
      "remote: Compressing objects: 100% (37/37), done.\u001b[K\n",
      "^C\n",
      "\n",
      " 23 :\t Topik project \n",
      "\t https://github.com/ContinuumIO/topik.git\n",
      "Git clone ......\n",
      "正克隆到 'topik'...\n",
      "remote: Counting objects: 3093, done.\u001b[K\n",
      "remote: Total 3093 (delta 0), reused 0 (delta 0), pack-reused 3093\u001b[K\n",
      "接收对象中: 100% (3093/3093), 1.82 MiB | 80.00 KiB/s, 完成.\n",
      "处理 delta 中: 100% (2079/2079), 完成.\n",
      "检查连接... 完成。\n",
      "\n",
      " 24 :\t scientific-python-lectures \n",
      "\t https://github.com/ContinuumIO/scientific-python-lectures.git\n",
      "Git clone ......\n",
      "正克隆到 'scientific-python-lectures'...\n",
      "remote: Counting objects: 790, done.\u001b[K\n",
      "remote: Total 790 (delta 0), reused 0 (delta 0), pack-reused 790\u001b[K\n",
      "接收对象中: 100% (790/790), 28.02 MiB | 34.00 KiB/s, 完成.\n",
      "处理 delta 中: 100% (489/489), 完成.\n",
      "检查连接... 完成。\n",
      "\n",
      " 25 :\t Continuum work from XDATA January 2016 Hackathon with U. S. Census Bureau \n",
      "\t https://github.com/ContinuumIO/xdata-2016-census.git\n",
      "Git clone ......\n",
      "正克隆到 'xdata-2016-census'...\n",
      "remote: Counting objects: 14, done.\u001b[K\n",
      "remote: Total 14 (delta 0), reused 0 (delta 0), pack-reused 14\u001b[K\n",
      "展开对象中: 100% (14/14), 完成.\n",
      "检查连接... 完成。\n",
      "\n",
      " 26 :\t Analysis on Each Image \n",
      "\t https://github.com/ContinuumIO/image-analyzer.git\n",
      "Git clone ......\n",
      "正克隆到 'image-analyzer'...\n",
      "remote: Counting objects: 217, done.\u001b[K\n",
      "remote: Total 217 (delta 0), reused 0 (delta 0), pack-reused 217\u001b[K\n",
      "接收对象中: 100% (217/217), 5.88 MiB | 219.00 KiB/s, 完成.\n",
      "处理 delta 中: 100% (126/126), 完成.\n",
      "检查连接... 完成。\n"
     ]
    }
   ],
   "source": [
    "import os\n",
    "import os.path\n",
    "\n",
    "index = 0\n",
    "for d in url_list:\n",
    "    index += 1\n",
    "    print(\"\\n\",index,\":\\t\",d[\"uname\"],\"\\n==>>\\t\",d[\"ugit\"])\n",
    "\n",
    "    git_path = os.path.split(d[\"ugit\"])\n",
    "    git_name = git_path[1].split(\".\")[0]\n",
    "    #print(git_name)\n",
    "    \n",
    "    if os.path.exists(git_name):\n",
    "        print(\"\\t Existed, git pull:\",git_name)\n",
    "        ! cd $git_name && git pull\n",
    "    else:\n",
    "        print(\"Git clone ......\")\n",
    "        ucmd = \"git clone \" + d[\"ugit\"]\n",
    "        #print(ucmd)\n",
    "        ! $ucmd\n",
    "print(\"Finished.\")"
   ]
  },
  {
   "cell_type": "markdown",
   "metadata": {},
   "source": [
    "### 保存到Markdown文件。"
   ]
  },
  {
   "cell_type": "code",
   "execution_count": 19,
   "metadata": {
    "collapsed": false
   },
   "outputs": [
    {
     "name": "stdout",
     "output_type": "stream",
     "text": [
      "Writed url list to file: url_list.md\n"
     ]
    }
   ],
   "source": [
    "flist = open(\"url_list.md\",\"w+\") \n",
    "flist.write(\n",
    "\"\"\"\n",
    "## IPython Notebook Tutorial and Skills open source...\n",
    "##### by [openthings@163.com](http://my.oschina.net/u/2306127/blog?catalog=3420733), 2016-04.   \n",
    "\"\"\"\n",
    ") \n",
    "for d in url_list:\n",
    "    flist.write(\"### \" + d[\"uname\"] + \"\\n\")\n",
    "    flist.write(\"[\" + d[\"ugit\"] + \"]\" + \"(\" + d[\"ugit\"] + \")\\n\")\n",
    "flist.close()\n",
    "print(\"Writed url list to file: url_list.md\")"
   ]
  },
  {
   "cell_type": "markdown",
   "metadata": {},
   "source": [
    "### 使用纯脚本完成。"
   ]
  },
  {
   "cell_type": "raw",
   "metadata": {},
   "source": [
    "%%!\n",
    "echo \"Get learn-pandas doc...\"\n",
    "if [ ! -d \"learn-pandas\" ]; then\n",
    "    echo \"Get new learn-pandas...\"\n",
    "    git clone https://bitbucket.org/hrojas/learn-pandas.git\n",
    "    cd learn-pandas\n",
    "else\n",
    "    echo \"pull update...\"\n",
    "    cd learn-pandas\n",
    "    git pull\n",
    "fi"
   ]
  },
  {
   "cell_type": "code",
   "execution_count": null,
   "metadata": {
    "collapsed": true
   },
   "outputs": [],
   "source": []
  }
 ],
 "metadata": {
  "kernelspec": {
   "display_name": "Python 3",
   "language": "python",
   "name": "python3"
  },
  "language_info": {
   "codemirror_mode": {
    "name": "ipython",
    "version": 3
   },
   "file_extension": ".py",
   "mimetype": "text/x-python",
   "name": "python",
   "nbconvert_exporter": "python",
   "pygments_lexer": "ipython3",
   "version": "3.5.1"
  }
 },
 "nbformat": 4,
 "nbformat_minor": 0
}
