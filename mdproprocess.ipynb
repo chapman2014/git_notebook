{
 "cells": [
  {
   "cell_type": "code",
   "execution_count": 2,
   "metadata": {
    "collapsed": false
   },
   "outputs": [
    {
     "name": "stdout",
     "output_type": "stream",
     "text": [
      "usage: md_preprocessor.py [-h] [--list] [--version] [--without WITHOUT]\r\n",
      "                          [--clean]\r\n",
      "                          [mdfile]\r\n",
      "\r\n",
      "positional arguments:\r\n",
      "  mdfile\r\n",
      "\r\n",
      "optional arguments:\r\n",
      "  -h, --help         show this help message and exit\r\n",
      "  --list             list commands\r\n",
      "  --version          print version\r\n",
      "  --without WITHOUT  don't parse command\r\n",
      "  --clean            remove unparsed tags\r\n"
     ]
    }
   ],
   "source": [
    "!python md_preprocessor.py"
   ]
  },
  {
   "cell_type": "code",
   "execution_count": null,
   "metadata": {
    "collapsed": true
   },
   "outputs": [],
   "source": []
  }
 ],
 "metadata": {
  "kernelspec": {
   "display_name": "Python 3",
   "language": "python",
   "name": "python3"
  },
  "language_info": {
   "codemirror_mode": {
    "name": "ipython",
    "version": 3
   },
   "file_extension": ".py",
   "mimetype": "text/x-python",
   "name": "python",
   "nbconvert_exporter": "python",
   "pygments_lexer": "ipython3",
   "version": "3.5.1"
  }
 },
 "nbformat": 4,
 "nbformat_minor": 0
}
