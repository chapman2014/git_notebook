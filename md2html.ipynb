{
 "cells": [
  {
   "cell_type": "markdown",
   "metadata": {},
   "source": [
    "### Markdown转为HTML格式。\n",
    "http://districtdatalabs.silvrback.com/markup-for-fast-data-science-publication\n",
    "\n",
    "安装：\n",
    "> pip install bleach  \n",
    "pip install markdown"
   ]
  },
  {
   "cell_type": "code",
   "execution_count": 3,
   "metadata": {
    "collapsed": false
   },
   "outputs": [],
   "source": [
    "import bleach\n",
    "from markdown import markdown\n",
    "\n",
    "def htmlize(text):\n",
    "    \"\"\"\n",
    "    This helper method renders Markdown then uses Bleach to sanitize it as\n",
    "    well as converting all links in text to actual anchor tags.\n",
    "    \"\"\"\n",
    "    text = bleach.clean(text, strip=True)    # Clean the text by stripping bad HTML tags\n",
    "    text = markdown(text)                    # Convert the markdown to HTML\n",
    "    text = bleach.linkify(text)              # Add links from the text and add nofollow to existing links\n",
    "\n",
    "    return text"
   ]
  },
  {
   "cell_type": "code",
   "execution_count": 4,
   "metadata": {
    "collapsed": true
   },
   "outputs": [],
   "source": [
    "md = \"\"\"\n",
    "# My Markdown Document\n",
    "\n",
    "For more information, search on [Google](http://www.google.com).\n",
    "\n",
    "_Grocery List:_\n",
    "\n",
    "1. Apples\n",
    "2. Bananas\n",
    "3. Oranges\n",
    "\n",
    "\"\"\""
   ]
  },
  {
   "cell_type": "code",
   "execution_count": 5,
   "metadata": {
    "collapsed": false
   },
   "outputs": [
    {
     "name": "stdout",
     "output_type": "stream",
     "text": [
      "<h1>My Markdown Document</h1>\n",
      "<p>For more information, search on <a href=\"http://www.google.com\" rel=\"nofollow\">Google</a>.</p>\n",
      "<p><em>Grocery List:</em></p>\n",
      "<ol>\n",
      "<li>Apples</li>\n",
      "<li>Bananas</li>\n",
      "<li>Oranges</li>\n",
      "</ol>\n"
     ]
    }
   ],
   "source": [
    "print(htmlize(md))"
   ]
  },
  {
   "cell_type": "code",
   "execution_count": null,
   "metadata": {
    "collapsed": true
   },
   "outputs": [],
   "source": []
  }
 ],
 "metadata": {
  "kernelspec": {
   "display_name": "Python 3",
   "language": "python",
   "name": "python3"
  },
  "language_info": {
   "codemirror_mode": {
    "name": "ipython",
    "version": 3
   },
   "file_extension": ".py",
   "mimetype": "text/x-python",
   "name": "python",
   "nbconvert_exporter": "python",
   "pygments_lexer": "ipython3",
   "version": "3.5.1"
  }
 },
 "nbformat": 4,
 "nbformat_minor": 0
}
