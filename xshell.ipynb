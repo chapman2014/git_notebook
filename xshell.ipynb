{
 "cells": [
  {
   "cell_type": "code",
   "execution_count": 1,
   "metadata": {
    "collapsed": false
   },
   "outputs": [
    {
     "name": "stdout",
     "output_type": "stream",
     "text": [
      "总用量 144\r\n",
      "-rw-rw-r--  1 supermap supermap  2475 4月  26 16:07 book.json\r\n",
      "-rw-rw-r--  1 supermap supermap     2 4月  25 17:00 book.json~\r\n",
      "drwxrwxr-x  4 supermap supermap  4096 4月  28 23:23 cse6040-ipynbs\r\n",
      "drwxrwxr-x  4 supermap supermap  4096 4月  26 21:30 Data_Bootcamp_Book\r\n",
      "-rwxrwxr-x  1 supermap supermap    63 4月  26 21:27 data_bootcamp_book.sh\r\n",
      "-rw-rw-r--  1 supermap supermap    63 4月  26 21:27 data_bootcamp_book.sh~\r\n",
      "-rw-------  1 supermap supermap   672 4月  30 06:49 DEADJOE\r\n",
      "drwxrwxr-x  2 supermap supermap  4096 4月  26 21:07 doc\r\n",
      "drwxrwxr-x  2 supermap supermap  4096 4月  25 16:59 gdal\r\n",
      "-rw-rw-r--  1 supermap supermap  2869 4月  30 06:17 get_notebook.sh\r\n",
      "drwxrwxr-x  4 supermap supermap  4096 4月  29 00:18 ipynb-examples\r\n",
      "drwxrwxr-x  4 supermap supermap  4096 4月  27 10:40 ipynb-file\r\n",
      "drwxrwxr-x  3 supermap supermap  4096 4月  28 10:30 ipython-notebooks\r\n",
      "drwxrwxr-x  2 supermap supermap  4096 4月  29 06:32 jupyter\r\n",
      "drwxrwxr-x  4 supermap supermap  4096 4月  27 10:58 learn-pandas\r\n",
      "-rw-rw-r--  1 supermap supermap 35141 4月  24 18:06 LICENSE\r\n",
      "-rw-rw-r--  1 supermap supermap  7815 4月  26 15:29 Makefile~\r\n",
      "drwxrwxr-x  6 supermap supermap  4096 4月  27 13:16 Mining-the-Social-Web-2nd-Edition\r\n",
      "drwxrwxr-x  2 supermap supermap  4096 4月  24 17:57 openstreetmap\r\n",
      "drwxrwxr-x  5 supermap supermap  4096 4月  27 10:44 pandas-cookbook\r\n",
      "drwxrwxr-x 14 supermap supermap  4096 4月  27 15:23 Probabilistic-Programming-and-Bayesian-Methods-for-Hackers\r\n",
      "drwxrwxr-x  3 supermap supermap  4096 4月  30 07:47 pystart\r\n",
      "-rw-rw-r--  1 supermap supermap    83 4月  29 23:37 README.md\r\n",
      "-rw-rw-r--  1 supermap supermap     9 4月  27 16:19 requirements.txt~\r\n",
      "-rw-rw-r--  1 supermap supermap   127 4月  26 21:07 SUMMARY.md\r\n",
      "-rw-rw-r--  1 supermap supermap    72 4月  30 07:49 xshell.ipynb\r\n",
      "-rw-rw-r--  1 supermap supermap   708 4月  26 14:15 zh_CN.json~\r\n"
     ]
    }
   ],
   "source": [
    "!ls -l"
   ]
  },
  {
   "cell_type": "code",
   "execution_count": 1,
   "metadata": {
    "collapsed": false
   },
   "outputs": [
    {
     "data": {
      "text/plain": [
       "['[master 5e8bf99] add osm *.md doc.',\n",
       " ' 8 files changed, 1188 insertions(+), 162 deletions(-)',\n",
       " ' rewrite SUMMARY.md (60%)',\n",
       " ' create mode 100644 doc/gdal-geometry.md',\n",
       " ' create mode 100644 doc/giscript_quickstart.md',\n",
       " ' create mode 100644 doc/srtm_usgs.md',\n",
       " ' create mode 100644 geospatial/mpl_basemap.ipynb',\n",
       " ' create mode 100644 geospatial/openstreetmap/osm-spark.ipynb']"
      ]
     },
     "execution_count": 1,
     "metadata": {},
     "output_type": "execute_result"
    }
   ],
   "source": [
    "%%!\n",
    "git add ./ -A\n",
    "git commit -a -m \"add osm *.md doc.\""
   ]
  }
 ],
 "metadata": {
  "kernelspec": {
   "display_name": "Python 3",
   "language": "python",
   "name": "python3"
  },
  "language_info": {
   "codemirror_mode": {
    "name": "ipython",
    "version": 3
   },
   "file_extension": ".py",
   "mimetype": "text/x-python",
   "name": "python",
   "nbconvert_exporter": "python",
   "pygments_lexer": "ipython3",
   "version": "3.5.1"
  }
 },
 "nbformat": 4,
 "nbformat_minor": 0
}
