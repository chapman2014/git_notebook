{
 "cells": [
  {
   "cell_type": "markdown",
   "metadata": {},
   "source": [
    "### HTML转为PDF格式。\n",
    "https://pypi.python.org/pypi/html2pdf/0.1"
   ]
  },
  {
   "cell_type": "markdown",
   "metadata": {},
   "source": [
    "### wkhtmltopdf (Linux)"
   ]
  },
  {
   "cell_type": "code",
   "execution_count": 5,
   "metadata": {
    "collapsed": false
   },
   "outputs": [
    {
     "name": "stdout",
     "output_type": "stream",
     "text": [
      "正克隆到 'html2pdf'...\n",
      "remote: Counting objects: 28, done.\u001b[K\n",
      "remote: Compressing objects: 100% (23/23), done.\u001b[K\n",
      "remote: Total 28 (delta 7), reused 0 (delta 0)\u001b[K\n",
      "展开对象中: 100% (28/28), 完成.\n",
      "检查连接... 完成。\n"
     ]
    }
   ],
   "source": [
    "!git clone https://bitbucket.org/luisfernando/html2pdf.git"
   ]
  },
  {
   "cell_type": "code",
   "execution_count": 1,
   "metadata": {
    "collapsed": false
   },
   "outputs": [
    {
     "data": {
      "text/plain": [
       "['Install Xvfd:',\n",
       " 'sudo: 没有终端存在，且未指定 askpass 程序',\n",
       " 'Install Fonts:',\n",
       " 'sudo: 没有终端存在，且未指定 askpass 程序',\n",
       " 'Install wkhtmltopdf:',\n",
       " 'sudo: 没有终端存在，且未指定 askpass 程序']"
      ]
     },
     "execution_count": 1,
     "metadata": {},
     "output_type": "execute_result"
    }
   ],
   "source": [
    "%%!\n",
    "echo \"Install Xvfd:\"\n",
    "sudo apt-get install xvfb\n",
    "\n",
    "echo \"Install Fonts:\"\n",
    "sudo apt-get install xfonts-100dpi xfonts-75dpi xfonts-scalable xfonts-cyrillic\n",
    "\n",
    "echo \"Install wkhtmltopdf:\"\n",
    "sudo apt-get install wkhtmltopdf"
   ]
  },
  {
   "cell_type": "markdown",
   "metadata": {},
   "source": [
    "### python-wkhtmltopdf (Any Platform)\n",
    "    Development:\n",
    "    $ git clone https://bitbucket.org/luisfernando/html2pdf.git\n",
    "    $ cd html2pdf\n",
    "    $ virtualenv .\n",
    "    $ pip install -r requirements.pip\n",
    "\n",
    "    PIP:\n",
    "    $ pip install git+https://bitbucket.org/luisfernando/html2pdf.git\n",
    "\n",
    "    or from pypi\n",
    "    $ pip install html2pdf"
   ]
  },
  {
   "cell_type": "code",
   "execution_count": 2,
   "metadata": {
    "collapsed": false
   },
   "outputs": [
    {
     "data": {
      "text/plain": [
       "['/bin/sh: 1: source: not found',\n",
       " 'Collecting html2pdf',\n",
       " '  Downloading html2pdf-0.1.tar.gz',\n",
       " 'Building wheels for collected packages: html2pdf',\n",
       " '  Running setup.py bdist_wheel for html2pdf: started',\n",
       " \"  Running setup.py bdist_wheel for html2pdf: finished with status 'done'\",\n",
       " '  Stored in directory: /home/supermap/.cache/pip/wheels/f4/77/ed/ce19a1319981f805ef074a75cc5df76d547df4894a7dffda57',\n",
       " 'Successfully built html2pdf',\n",
       " 'Installing collected packages: html2pdf',\n",
       " 'Successfully installed html2pdf-0.1']"
      ]
     },
     "execution_count": 2,
     "metadata": {},
     "output_type": "execute_result"
    }
   ],
   "source": [
    "%%!\n",
    "source activate GISpark\n",
    "pip install html2pdf"
   ]
  },
  {
   "cell_type": "markdown",
   "metadata": {},
   "source": [
    "### Render a URL:"
   ]
  },
  {
   "cell_type": "code",
   "execution_count": 1,
   "metadata": {
    "collapsed": false
   },
   "outputs": [
    {
     "ename": "ImportError",
     "evalue": "No module named 'main'",
     "output_type": "error",
     "traceback": [
      "\u001b[1;31m---------------------------------------------------------------------------\u001b[0m",
      "\u001b[1;31mImportError\u001b[0m                               Traceback (most recent call last)",
      "\u001b[1;32m<ipython-input-1-5779ff09c677>\u001b[0m in \u001b[0;36m<module>\u001b[1;34m()\u001b[0m\n\u001b[1;32m----> 1\u001b[1;33m \u001b[1;32mfrom\u001b[0m \u001b[0mwkhtmltopdf\u001b[0m \u001b[1;32mimport\u001b[0m \u001b[0mHTMLURLToPDF\u001b[0m\u001b[1;33m\u001b[0m\u001b[0m\n\u001b[0m\u001b[0;32m      2\u001b[0m \u001b[1;33m\u001b[0m\u001b[0m\n\u001b[0;32m      3\u001b[0m make_pdf = HTMLURLToPDF(\n\u001b[0;32m      4\u001b[0m     \u001b[0murl\u001b[0m\u001b[1;33m=\u001b[0m\u001b[1;34m'http://www.example.com'\u001b[0m\u001b[1;33m,\u001b[0m\u001b[1;33m\u001b[0m\u001b[0m\n\u001b[0;32m      5\u001b[0m     \u001b[0moutput_file\u001b[0m\u001b[1;33m=\u001b[0m\u001b[1;34m'~/example.pdf'\u001b[0m\u001b[1;33m,\u001b[0m\u001b[1;33m\u001b[0m\u001b[0m\n",
      "\u001b[1;32m/home/supermap/anaconda3/envs/GISpark/lib/python3.5/site-packages/wkhtmltopdf/__init__.py\u001b[0m in \u001b[0;36m<module>\u001b[1;34m()\u001b[0m\n\u001b[1;32m----> 1\u001b[1;33m \u001b[1;32mfrom\u001b[0m \u001b[0mmain\u001b[0m \u001b[1;32mimport\u001b[0m \u001b[0mWKhtmlToPdf\u001b[0m\u001b[1;33m,\u001b[0m \u001b[0mwkhtmltopdf\u001b[0m\u001b[1;33m\u001b[0m\u001b[0m\n\u001b[0m\u001b[0;32m      2\u001b[0m \u001b[1;32mimport\u001b[0m \u001b[0mapi\u001b[0m\u001b[1;33m\u001b[0m\u001b[0m\n",
      "\u001b[1;31mImportError\u001b[0m: No module named 'main'"
     ]
    }
   ],
   "source": [
    "from wkhtmltopdf import HTMLURLToPDF\n",
    "\n",
    "make_pdf = HTMLURLToPDF(\n",
    "    url='http://www.example.com',\n",
    "    output_file='~/example.pdf',\n",
    ")\n",
    "\n",
    "make_pdf.render()"
   ]
  },
  {
   "cell_type": "markdown",
   "metadata": {},
   "source": [
    "### Render a HTML string:"
   ]
  },
  {
   "cell_type": "code",
   "execution_count": 2,
   "metadata": {
    "collapsed": false
   },
   "outputs": [
    {
     "ename": "SyntaxError",
     "evalue": "invalid syntax (main.py, line 174)",
     "output_type": "error",
     "traceback": [
      "\u001b[1;36m  File \u001b[1;32m\"/home/supermap/anaconda3/envs/GISpark/lib/python3.5/site-packages/html2pdf-0.1-py3.5.egg/html2pdf/main.py\"\u001b[1;36m, line \u001b[1;32m174\u001b[0m\n\u001b[1;33m    except OSError, exc:\u001b[0m\n\u001b[1;37m                  ^\u001b[0m\n\u001b[1;31mSyntaxError\u001b[0m\u001b[1;31m:\u001b[0m invalid syntax\n"
     ]
    }
   ],
   "source": [
    "from html2pdf import HTMLToPDF\n",
    "\n",
    "HTML = \"\"\"\n",
    "    <!DOCTYPE html>\n",
    "    <html>\n",
    "        <body>\n",
    "        <h1>Hello World</h1>\n",
    "        </body>\n",
    "    </html>\n",
    "\"\"\"\n",
    "\n",
    "h = HTMLToPDF(HTML, self.output_file)"
   ]
  },
  {
   "cell_type": "code",
   "execution_count": 3,
   "metadata": {
    "collapsed": false
   },
   "outputs": [
    {
     "name": "stdout",
     "output_type": "stream",
     "text": [
      "You need to specify atleast one input file, and exactly one output file\r\n",
      "Use - for stdin or stdout\r\n",
      "\r\n",
      "Name:\r\n",
      "  wkhtmltopdf 0.12.2.4\r\n",
      "\r\n",
      "Synopsis:\r\n",
      "  wkhtmltopdf [GLOBAL OPTION]... [OBJECT]... <output file>\r\n",
      "  \r\n",
      "Document objects:\r\n",
      "  wkhtmltopdf is able to put several objects into the output file, an object is\r\n",
      "  either a single webpage, a cover webpage or a table of content.  The objects\r\n",
      "  are put into the output document in the order they are specified on the\r\n",
      "  command line, options can be specified on a per object basis or in the global\r\n",
      "  options area. Options from the Global Options section can only be placed in\r\n",
      "  the global options area\r\n",
      "\r\n",
      "  A page objects puts the content of a singe webpage into the output document.\r\n",
      "\r\n",
      "  (page)? <input url/file name> [PAGE OPTION]...\r\n",
      "  Options for the page object can be placed in the global options and the page\r\n",
      "  options areas. The applicable options can be found in the Page Options and \r\n",
      "  Headers And Footer Options sections.\r\n",
      "\r\n",
      "  A cover objects puts the content of a singe webpage into the output document,\r\n",
      "  the page does not appear in the table of content, and does not have headers\r\n",
      "  and footers.\r\n",
      "\r\n",
      "  cover <input url/file name> [PAGE OPTION]...\r\n",
      "  All options that can be specified for a page object can also be specified for\r\n",
      "  a cover.\r\n",
      "\r\n",
      "  A table of content object inserts a table of content into the output document.\r\n",
      "\r\n",
      "  toc [TOC OPTION]...\r\n",
      "  All options that can be specified for a page object can also be specified for\r\n",
      "  a toc, further more the options from the TOC Options section can also be\r\n",
      "  applied. The table of content is generated via XSLT which means that it can be\r\n",
      "  styled to look however you want it to look. To get an aide of how to do this\r\n",
      "  you can dump the default xslt document by supplying the\r\n",
      "  --dump-default-toc-xsl, and the outline it works on by supplying\r\n",
      "  --dump-outline, see the Outline Options section.\r\n",
      "\r\n",
      "Description:\r\n",
      "  Converts one or more HTML pages into a PDF document, *not* using wkhtmltopdf\r\n",
      "  patched qt.\r\n",
      "\r\n",
      "Global Options:\r\n",
      "      --collate                       Collate when printing multiple copies\r\n",
      "                                      (default)\r\n",
      "      --no-collate                    Do not collate when printing multiple\r\n",
      "                                      copies\r\n",
      "      --copies <number>               Number of copies to print into the pdf\r\n",
      "                                      file (default 1)\r\n",
      "  -H, --extended-help                 Display more extensive help, detailing\r\n",
      "                                      less common command switches\r\n",
      "  -g, --grayscale                     PDF will be generated in grayscale\r\n",
      "  -h, --help                          Display help\r\n",
      "      --license                       Output license information and exit\r\n",
      "  -l, --lowquality                    Generates lower quality pdf/ps. Useful to\r\n",
      "                                      shrink the result document space\r\n",
      "  -O, --orientation <orientation>     Set orientation to Landscape or Portrait\r\n",
      "                                      (default Portrait)\r\n",
      "  -s, --page-size <Size>              Set paper size to: A4, Letter, etc.\r\n",
      "                                      (default A4)\r\n",
      "  -q, --quiet                         Be less verbose\r\n",
      "      --read-args-from-stdin          Read command line arguments from stdin\r\n",
      "      --title <text>                  The title of the generated pdf file (The\r\n",
      "                                      title of the first document is used if not\r\n",
      "                                      specified)\r\n",
      "  -V, --version                       Output version information and exit\r\n",
      "\r\n",
      "Reduced Functionality:\r\n",
      "  This version of wkhtmltopdf has been compiled against a version of QT without\r\n",
      "  the wkhtmltopdf patches. Therefore some features are missing, if you need\r\n",
      "  these features please use the static version.\r\n",
      "\r\n",
      "  Currently the list of features only supported with patch QT includes:\r\n",
      "\r\n",
      " * Printing more then one HTML document into a PDF file.\r\n",
      " * Running without an X11 server.\r\n",
      " * Adding a document outline to the PDF file.\r\n",
      " * Adding headers and footers to the PDF file.\r\n",
      " * Generating a table of contents.\r\n",
      " * Adding links in the generated PDF file.\r\n",
      " * Printing using the screen media-type.\r\n",
      " * Disabling the smart shrink feature of webkit.\r\n",
      "\r\n",
      "Contact:\r\n",
      "  If you experience bugs or want to request new features please visit \r\n",
      "  <https://github.com/wkhtmltopdf/wkhtmltopdf/issues>\r\n",
      "\r\n"
     ]
    }
   ],
   "source": [
    "!wkhtmltopdf"
   ]
  },
  {
   "cell_type": "code",
   "execution_count": null,
   "metadata": {
    "collapsed": true
   },
   "outputs": [],
   "source": []
  }
 ],
 "metadata": {
  "kernelspec": {
   "display_name": "Python 3",
   "language": "python",
   "name": "python3"
  },
  "language_info": {
   "codemirror_mode": {
    "name": "ipython",
    "version": 3
   },
   "file_extension": ".py",
   "mimetype": "text/x-python",
   "name": "python",
   "nbconvert_exporter": "python",
   "pygments_lexer": "ipython3",
   "version": "3.5.1"
  }
 },
 "nbformat": 4,
 "nbformat_minor": 0
}
