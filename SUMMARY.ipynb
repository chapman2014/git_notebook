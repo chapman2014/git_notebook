{
 "cells": [
  {
   "cell_type": "markdown",
   "metadata": {},
   "source": [
    "# Summary\n",
    "\n",
    "* [Introduction](README.md)\n",
    "* [Notebook 教程大全]\n",
    "    * [Notebook教程大全](git_list.md)\n",
    "    * [批量下载资源到本地](git_get.md)\n",
    "* [地理空间数据处理]\n",
    "    * [数据格式]\n",
    "        * [GeoJSON 格式](http://geojson.org/)\n",
    "        * [空间数据CSV格式]\n",
    "    * [GeoPandas库使用]\n",
    "    * [Fiona和Shaply库使用]\n",
    "    * [OpenStreetMap数据处理](doc/osm.md)\n",
    "        * [OSM 数据结构分析]\n",
    "            * [bbox 区域数据下载]\n",
    "        * [Overpass在线API使用]\n",
    "        * [osm快速迭代处理](doc/osm2feature.md)\n",
    "            * [osm转为行存储json](doc/osm2json.md)\n",
    "        * [osm构建Geometry](git_get.ipynb)\n",
    "            * [osm转为GeoJSON]\n",
    "    * [gdal使用基础](doc/gdal.md)\n",
    "    \n",
    "    * [Matplotlib绘制地图]\n",
    "        * [绘制地图]\n",
    "    * [GIScript脚本引擎]\n",
    "        * [安装]\n",
    "        * [使用]\n",
    "* [Python并行处理]\n",
    "    [PySpark](doc/spark.md)\n",
    "* [python](doc/pystart_catalog.md)\n"
   ]
  },
  {
   "cell_type": "code",
   "execution_count": null,
   "metadata": {
    "collapsed": true
   },
   "outputs": [],
   "source": []
  }
 ],
 "metadata": {
  "kernelspec": {
   "display_name": "Python 3",
   "language": "python",
   "name": "python3"
  },
  "language_info": {
   "codemirror_mode": {
    "name": "ipython",
    "version": 3
   },
   "file_extension": ".py",
   "mimetype": "text/x-python",
   "name": "python",
   "nbconvert_exporter": "python",
   "pygments_lexer": "ipython3",
   "version": "3.5.1"
  }
 },
 "nbformat": 4,
 "nbformat_minor": 0
}
